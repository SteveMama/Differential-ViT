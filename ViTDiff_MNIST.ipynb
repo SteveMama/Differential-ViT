{
  "nbformat": 4,
  "nbformat_minor": 0,
  "metadata": {
    "colab": {
      "provenance": [],
      "gpuType": "T4"
    },
    "kernelspec": {
      "name": "python3",
      "display_name": "Python 3"
    },
    "language_info": {
      "name": "python"
    },
    "accelerator": "GPU"
  },
  "cells": [
    {
      "cell_type": "code",
      "execution_count": 1,
      "metadata": {
        "colab": {
          "base_uri": "https://localhost:8080/"
        },
        "id": "tsczGEq2qM--",
        "outputId": "cbd82f1b-9b52-4c2b-95b7-c2e2f8b7d02b"
      },
      "outputs": [
        {
          "output_type": "stream",
          "name": "stdout",
          "text": [
            "Cloning into 'ViTDiff'...\n",
            "remote: Enumerating objects: 30, done.\u001b[K\n",
            "remote: Counting objects: 100% (30/30), done.\u001b[K\n",
            "remote: Compressing objects: 100% (23/23), done.\u001b[K\n",
            "remote: Total 30 (delta 8), reused 27 (delta 5), pack-reused 0 (from 0)\u001b[K\n",
            "Receiving objects: 100% (30/30), 5.65 KiB | 1.88 MiB/s, done.\n",
            "Resolving deltas: 100% (8/8), done.\n"
          ]
        }
      ],
      "source": [
        "!git clone https://github.com/SteveMama/Differential-ViT.git ViTDiff"
      ]
    },
    {
      "cell_type": "code",
      "source": [
        "cd ViTDiff"
      ],
      "metadata": {
        "colab": {
          "base_uri": "https://localhost:8080/"
        },
        "id": "Hj0Q-tZ-qeTu",
        "outputId": "3ae33091-5c52-4ad4-8889-4b951dac95aa"
      },
      "execution_count": 2,
      "outputs": [
        {
          "output_type": "stream",
          "name": "stdout",
          "text": [
            "/content/ViTDiff\n"
          ]
        }
      ]
    },
    {
      "cell_type": "code",
      "source": [
        "import torch\n",
        "import torch.nn as nn\n",
        "import torch.optim as optim\n",
        "from torch.utils.data import DataLoader\n",
        "from torchvision import datasets, transforms\n",
        "from torchvision.transforms import ToTensor\n",
        "import matplotlib.pyplot as plt\n",
        "from tqdm import tqdm\n",
        "from diff_attn import *\n",
        "from ViTDiff import *"
      ],
      "metadata": {
        "id": "-Mi37Ps6qwec"
      },
      "execution_count": 7,
      "outputs": []
    },
    {
      "cell_type": "code",
      "source": [
        "\n",
        "torch.manual_seed(42)\n",
        "device = torch.device('cuda' if torch.cuda.is_available() else 'cpu')\n",
        "\n",
        "\n",
        "def load_mnist_data(batch_size=64):\n",
        "    \"\"\"Load and prepare MNIST dataset\"\"\"\n",
        "    transform = transforms.Compose([\n",
        "        transforms.ToTensor(),\n",
        "        transforms.Normalize((0.1307,), (0.3081,))\n",
        "    ])\n",
        "\n",
        "    train_dataset = datasets.MNIST(root='./data',\n",
        "                                 train=True,\n",
        "                                 download=True,\n",
        "                                 transform=transform)\n",
        "\n",
        "    test_dataset = datasets.MNIST(root='./data',\n",
        "                                train=False,\n",
        "                                transform=transform)\n",
        "\n",
        "    train_loader = DataLoader(train_dataset,\n",
        "                            batch_size=batch_size,\n",
        "                            shuffle=True)\n",
        "\n",
        "    test_loader = DataLoader(test_dataset,\n",
        "                           batch_size=batch_size,\n",
        "                           shuffle=False)\n",
        "\n",
        "    return train_loader, test_loader"
      ],
      "metadata": {
        "id": "t0lxg9BZqgK7"
      },
      "execution_count": 8,
      "outputs": []
    },
    {
      "cell_type": "code",
      "source": [
        "def train_epoch(model, train_loader, criterion, optimizer, epoch):\n",
        "    \"\"\"Train for one epoch\"\"\"\n",
        "    model.train()\n",
        "    running_loss = 0.0\n",
        "    correct = 0\n",
        "    total = 0\n",
        "\n",
        "    progress_bar = tqdm(enumerate(train_loader), total=len(train_loader),\n",
        "                       desc=f'Epoch {epoch}')\n",
        "\n",
        "    for batch_idx, (data, target) in progress_bar:\n",
        "        data, target = data.to(device), target.to(device)\n",
        "\n",
        "\n",
        "        optimizer.zero_grad()\n",
        "\n",
        "\n",
        "        outputs = model(data)\n",
        "        loss = criterion(outputs, target)\n",
        "\n",
        "\n",
        "        loss.backward()\n",
        "        optimizer.step()\n",
        "\n",
        "\n",
        "        running_loss += loss.item()\n",
        "        _, predicted = outputs.max(1)\n",
        "        total += target.size(0)\n",
        "        correct += predicted.eq(target).sum().item()\n",
        "\n",
        "\n",
        "        progress_bar.set_postfix({\n",
        "            'loss': running_loss/(batch_idx+1),\n",
        "            'acc': 100.*correct/total\n",
        "        })\n",
        "\n",
        "    return running_loss/len(train_loader), 100.*correct/total\n",
        "\n",
        "def evaluate(model, test_loader, criterion):\n",
        "    \"\"\"Evaluate the model\"\"\"\n",
        "    model.eval()\n",
        "    test_loss = 0\n",
        "    correct = 0\n",
        "    total = 0\n",
        "\n",
        "    with torch.no_grad():\n",
        "        for data, target in test_loader:\n",
        "            data, target = data.to(device), target.to(device)\n",
        "            outputs = model(data)\n",
        "\n",
        "            test_loss += criterion(outputs, target).item()\n",
        "            _, predicted = outputs.max(1)\n",
        "            total += target.size(0)\n",
        "            correct += predicted.eq(target).sum().item()\n",
        "\n",
        "    return test_loss/len(test_loader), 100.*correct/total"
      ],
      "metadata": {
        "id": "f2Kcrbh1qj8i"
      },
      "execution_count": 9,
      "outputs": []
    },
    {
      "cell_type": "code",
      "source": [
        "def train_model(model, train_loader, test_loader, num_epochs=10):\n",
        "    \"\"\"Complete training pipeline\"\"\"\n",
        "    criterion = nn.CrossEntropyLoss()\n",
        "    optimizer = optim.AdamW(model.parameters(), lr=0.001, weight_decay=0.1)\n",
        "    scheduler = optim.lr_scheduler.CosineAnnealingLR(optimizer, T_max=num_epochs)\n",
        "\n",
        "\n",
        "    history = {\n",
        "        'train_loss': [], 'train_acc': [],\n",
        "        'val_loss': [], 'val_acc': []\n",
        "    }\n",
        "\n",
        "    best_acc = 0\n",
        "\n",
        "    for epoch in range(num_epochs):\n",
        "\n",
        "        train_loss, train_acc = train_epoch(model, train_loader, criterion,\n",
        "                                          optimizer, epoch)\n",
        "\n",
        "\n",
        "        val_loss, val_acc = evaluate(model, test_loader, criterion)\n",
        "\n",
        "\n",
        "        scheduler.step()\n",
        "\n",
        "\n",
        "        if val_acc > best_acc:\n",
        "            best_acc = val_acc\n",
        "            torch.save(model.state_dict(), 'best_model.pth')\n",
        "\n",
        "\n",
        "        history['train_loss'].append(train_loss)\n",
        "        history['train_acc'].append(train_acc)\n",
        "        history['val_loss'].append(val_loss)\n",
        "        history['val_acc'].append(val_acc)\n",
        "\n",
        "        print(f'\\nEpoch {epoch+1}/{num_epochs}:')\n",
        "        print(f'Train Loss: {train_loss:.4f}, Train Acc: {train_acc:.2f}%')\n",
        "        print(f'Val Loss: {val_loss:.4f}, Val Acc: {val_acc:.2f}%')\n",
        "\n",
        "    return history"
      ],
      "metadata": {
        "id": "J_MlaDPsqpTf"
      },
      "execution_count": 10,
      "outputs": []
    },
    {
      "cell_type": "code",
      "source": [
        "def predict(model, image):\n",
        "    \"\"\"Make prediction for a single image\"\"\"\n",
        "    model.eval()\n",
        "    with torch.no_grad():\n",
        "        image = image.unsqueeze(0).to(device)\n",
        "        output = model(image)\n",
        "        _, predicted = output.max(1)\n",
        "        return predicted.item()\n",
        "\n",
        "def visualize_predictions(model, test_loader, num_images=10):\n",
        "    \"\"\"Visualize predictions on sample images\"\"\"\n",
        "    model.eval()\n",
        "    images, labels = next(iter(test_loader))\n",
        "    images = images[:num_images].to(device)\n",
        "    labels = labels[:num_images]\n",
        "\n",
        "    with torch.no_grad():\n",
        "        outputs = model(images)\n",
        "        _, predicted = outputs.max(1)\n",
        "\n",
        "    fig = plt.figure(figsize=(15, 3))\n",
        "    for i in range(num_images):\n",
        "        ax = fig.add_subplot(1, num_images, i + 1)\n",
        "        ax.imshow(images[i].cpu().squeeze(), cmap='gray')\n",
        "        ax.set_title(f'Pred: {predicted[i]}\\nTrue: {labels[i]}')\n",
        "        ax.axis('off')\n",
        "    plt.tight_layout()\n",
        "    plt.show()"
      ],
      "metadata": {
        "id": "AX7_HnCAqq_1"
      },
      "execution_count": 11,
      "outputs": []
    },
    {
      "cell_type": "code",
      "source": [
        "def main():\n",
        "\n",
        "    train_loader, test_loader = load_mnist_data(batch_size=64)\n",
        "\n",
        "\n",
        "    model = VisionTransformerDiff(\n",
        "        image_size=28,\n",
        "        patch_size=7,\n",
        "        in_channels=1,\n",
        "        num_classes=10,\n",
        "        embed_dim=64,\n",
        "        depth=6,\n",
        "        num_heads=8,\n",
        "        mlp_ratio=4.,\n",
        "        qkv_bias=False,\n",
        "        drop_rate=0.1,\n",
        "        attn_drop_rate=0.1\n",
        "    ).to(device)\n",
        "\n",
        "\n",
        "    history = train_model(model, train_loader, test_loader, num_epochs=10)\n",
        "\n",
        "\n",
        "    plt.figure(figsize=(12, 4))\n",
        "    plt.subplot(1, 2, 1)\n",
        "    plt.plot(history['train_loss'], label='Train Loss')\n",
        "    plt.plot(history['val_loss'], label='Val Loss')\n",
        "    plt.legend()\n",
        "    plt.title('Loss History')\n",
        "\n",
        "    plt.subplot(1, 2, 2)\n",
        "    plt.plot(history['train_acc'], label='Train Acc')\n",
        "    plt.plot(history['val_acc'], label='Val Acc')\n",
        "    plt.legend()\n",
        "    plt.title('Accuracy History')\n",
        "    plt.show()\n",
        "\n",
        "\n",
        "    visualize_predictions(model, test_loader)\n",
        "\n",
        "if __name__ == '__main__':\n",
        "    main()"
      ],
      "metadata": {
        "colab": {
          "base_uri": "https://localhost:8080/",
          "height": 1000
        },
        "id": "gpgH2TeIqs8P",
        "outputId": "8122c886-c3d9-4a80-b2b9-553146a7ea9a"
      },
      "execution_count": 12,
      "outputs": [
        {
          "output_type": "stream",
          "name": "stdout",
          "text": [
            "Downloading http://yann.lecun.com/exdb/mnist/train-images-idx3-ubyte.gz\n",
            "Failed to download (trying next):\n",
            "HTTP Error 403: Forbidden\n",
            "\n",
            "Downloading https://ossci-datasets.s3.amazonaws.com/mnist/train-images-idx3-ubyte.gz\n",
            "Downloading https://ossci-datasets.s3.amazonaws.com/mnist/train-images-idx3-ubyte.gz to ./data/MNIST/raw/train-images-idx3-ubyte.gz\n"
          ]
        },
        {
          "output_type": "stream",
          "name": "stderr",
          "text": [
            "100%|██████████| 9.91M/9.91M [00:00<00:00, 50.9MB/s]\n"
          ]
        },
        {
          "output_type": "stream",
          "name": "stdout",
          "text": [
            "Extracting ./data/MNIST/raw/train-images-idx3-ubyte.gz to ./data/MNIST/raw\n",
            "\n",
            "Downloading http://yann.lecun.com/exdb/mnist/train-labels-idx1-ubyte.gz\n",
            "Failed to download (trying next):\n",
            "HTTP Error 403: Forbidden\n",
            "\n",
            "Downloading https://ossci-datasets.s3.amazonaws.com/mnist/train-labels-idx1-ubyte.gz\n",
            "Downloading https://ossci-datasets.s3.amazonaws.com/mnist/train-labels-idx1-ubyte.gz to ./data/MNIST/raw/train-labels-idx1-ubyte.gz\n"
          ]
        },
        {
          "output_type": "stream",
          "name": "stderr",
          "text": [
            "100%|██████████| 28.9k/28.9k [00:00<00:00, 1.79MB/s]"
          ]
        },
        {
          "output_type": "stream",
          "name": "stdout",
          "text": [
            "Extracting ./data/MNIST/raw/train-labels-idx1-ubyte.gz to ./data/MNIST/raw\n",
            "\n",
            "Downloading http://yann.lecun.com/exdb/mnist/t10k-images-idx3-ubyte.gz\n"
          ]
        },
        {
          "output_type": "stream",
          "name": "stderr",
          "text": [
            "\n"
          ]
        },
        {
          "output_type": "stream",
          "name": "stdout",
          "text": [
            "Failed to download (trying next):\n",
            "HTTP Error 403: Forbidden\n",
            "\n",
            "Downloading https://ossci-datasets.s3.amazonaws.com/mnist/t10k-images-idx3-ubyte.gz\n",
            "Downloading https://ossci-datasets.s3.amazonaws.com/mnist/t10k-images-idx3-ubyte.gz to ./data/MNIST/raw/t10k-images-idx3-ubyte.gz\n"
          ]
        },
        {
          "output_type": "stream",
          "name": "stderr",
          "text": [
            "100%|██████████| 1.65M/1.65M [00:00<00:00, 13.9MB/s]\n"
          ]
        },
        {
          "output_type": "stream",
          "name": "stdout",
          "text": [
            "Extracting ./data/MNIST/raw/t10k-images-idx3-ubyte.gz to ./data/MNIST/raw\n",
            "\n",
            "Downloading http://yann.lecun.com/exdb/mnist/t10k-labels-idx1-ubyte.gz\n",
            "Failed to download (trying next):\n",
            "HTTP Error 403: Forbidden\n",
            "\n",
            "Downloading https://ossci-datasets.s3.amazonaws.com/mnist/t10k-labels-idx1-ubyte.gz\n",
            "Downloading https://ossci-datasets.s3.amazonaws.com/mnist/t10k-labels-idx1-ubyte.gz to ./data/MNIST/raw/t10k-labels-idx1-ubyte.gz\n"
          ]
        },
        {
          "output_type": "stream",
          "name": "stderr",
          "text": [
            "100%|██████████| 4.54k/4.54k [00:00<00:00, 9.86MB/s]"
          ]
        },
        {
          "output_type": "stream",
          "name": "stdout",
          "text": [
            "Extracting ./data/MNIST/raw/t10k-labels-idx1-ubyte.gz to ./data/MNIST/raw\n",
            "\n"
          ]
        },
        {
          "output_type": "stream",
          "name": "stderr",
          "text": [
            "\n",
            "Epoch 0: 100%|██████████| 938/938 [00:39<00:00, 23.46it/s, loss=0.355, acc=88.9]\n"
          ]
        },
        {
          "output_type": "stream",
          "name": "stdout",
          "text": [
            "\n",
            "Epoch 1/10:\n",
            "Train Loss: 0.3546, Train Acc: 88.89%\n",
            "Val Loss: 0.1202, Val Acc: 96.27%\n"
          ]
        },
        {
          "output_type": "stream",
          "name": "stderr",
          "text": [
            "Epoch 1: 100%|██████████| 938/938 [00:38<00:00, 24.43it/s, loss=0.128, acc=96.1]\n"
          ]
        },
        {
          "output_type": "stream",
          "name": "stdout",
          "text": [
            "\n",
            "Epoch 2/10:\n",
            "Train Loss: 0.1276, Train Acc: 96.09%\n",
            "Val Loss: 0.0992, Val Acc: 97.01%\n"
          ]
        },
        {
          "output_type": "stream",
          "name": "stderr",
          "text": [
            "Epoch 2: 100%|██████████| 938/938 [00:38<00:00, 24.48it/s, loss=0.0958, acc=97.1]\n"
          ]
        },
        {
          "output_type": "stream",
          "name": "stdout",
          "text": [
            "\n",
            "Epoch 3/10:\n",
            "Train Loss: 0.0958, Train Acc: 97.08%\n",
            "Val Loss: 0.0952, Val Acc: 97.15%\n"
          ]
        },
        {
          "output_type": "stream",
          "name": "stderr",
          "text": [
            "Epoch 3: 100%|██████████| 938/938 [00:38<00:00, 24.66it/s, loss=0.0793, acc=97.5]\n"
          ]
        },
        {
          "output_type": "stream",
          "name": "stdout",
          "text": [
            "\n",
            "Epoch 4/10:\n",
            "Train Loss: 0.0793, Train Acc: 97.48%\n",
            "Val Loss: 0.0701, Val Acc: 97.77%\n"
          ]
        },
        {
          "output_type": "stream",
          "name": "stderr",
          "text": [
            "Epoch 4: 100%|██████████| 938/938 [00:38<00:00, 24.50it/s, loss=0.0643, acc=98]\n"
          ]
        },
        {
          "output_type": "stream",
          "name": "stdout",
          "text": [
            "\n",
            "Epoch 5/10:\n",
            "Train Loss: 0.0643, Train Acc: 97.97%\n",
            "Val Loss: 0.0578, Val Acc: 98.17%\n"
          ]
        },
        {
          "output_type": "stream",
          "name": "stderr",
          "text": [
            "Epoch 5: 100%|██████████| 938/938 [00:38<00:00, 24.67it/s, loss=0.0513, acc=98.3]\n"
          ]
        },
        {
          "output_type": "stream",
          "name": "stdout",
          "text": [
            "\n",
            "Epoch 6/10:\n",
            "Train Loss: 0.0513, Train Acc: 98.34%\n",
            "Val Loss: 0.0615, Val Acc: 98.05%\n"
          ]
        },
        {
          "output_type": "stream",
          "name": "stderr",
          "text": [
            "Epoch 6: 100%|██████████| 938/938 [00:37<00:00, 24.93it/s, loss=0.0404, acc=98.7]\n"
          ]
        },
        {
          "output_type": "stream",
          "name": "stdout",
          "text": [
            "\n",
            "Epoch 7/10:\n",
            "Train Loss: 0.0404, Train Acc: 98.73%\n",
            "Val Loss: 0.0535, Val Acc: 98.42%\n"
          ]
        },
        {
          "output_type": "stream",
          "name": "stderr",
          "text": [
            "Epoch 7: 100%|██████████| 938/938 [00:39<00:00, 23.96it/s, loss=0.0298, acc=99.1]\n"
          ]
        },
        {
          "output_type": "stream",
          "name": "stdout",
          "text": [
            "\n",
            "Epoch 8/10:\n",
            "Train Loss: 0.0298, Train Acc: 99.06%\n",
            "Val Loss: 0.0480, Val Acc: 98.58%\n"
          ]
        },
        {
          "output_type": "stream",
          "name": "stderr",
          "text": [
            "Epoch 8: 100%|██████████| 938/938 [00:39<00:00, 23.68it/s, loss=0.0232, acc=99.4]\n"
          ]
        },
        {
          "output_type": "stream",
          "name": "stdout",
          "text": [
            "\n",
            "Epoch 9/10:\n",
            "Train Loss: 0.0232, Train Acc: 99.37%\n",
            "Val Loss: 0.0462, Val Acc: 98.64%\n"
          ]
        },
        {
          "output_type": "stream",
          "name": "stderr",
          "text": [
            "Epoch 9: 100%|██████████| 938/938 [00:37<00:00, 24.78it/s, loss=0.0187, acc=99.5]\n"
          ]
        },
        {
          "output_type": "stream",
          "name": "stdout",
          "text": [
            "\n",
            "Epoch 10/10:\n",
            "Train Loss: 0.0187, Train Acc: 99.48%\n",
            "Val Loss: 0.0453, Val Acc: 98.71%\n"
          ]
        },
        {
          "output_type": "display_data",
          "data": {
            "text/plain": [
              "<Figure size 1200x400 with 2 Axes>"
            ],
            "image/png": "[encoded data removed]"
          },
          "metadata": {}
        },
        {
          "output_type": "display_data",
          "data": {
            "text/plain": [
              "<Figure size 1500x300 with 10 Axes>"
            ],
            "image/png": "[encoded data removed]"
          },
          "metadata": {}
        }
      ]
    },
    {
      "cell_type": "code",
      "source": [],
      "metadata": {
        "id": "4VXF0ljas-me"
      },
      "execution_count": null,
      "outputs": []
    },
    {
      "cell_type": "markdown",
      "source": [],
      "metadata": {
        "id": "5bTg8rBWssuQ"
      }
    }
  ]
}